{
 "cells": [
  {
   "cell_type": "markdown",
   "metadata": {},
   "source": [
    "NON-GRADED CHALLENGE 2 \n",
    "FTDS HACKTIV8\n",
    "\n",
    "Nama : Faris Arief Mawardi\n",
    "Batch : HCK-009\n",
    "\n",
    "PHYTON FUNCTION, CONDITIONAL, AND LOOP "
   ]
  },
  {
   "cell_type": "markdown",
   "metadata": {},
   "source": [
    "OBJECTIVES :\n",
    "\n",
    "1.Get a grip of python function, conditional, and loop logic.\n",
    "\n",
    "2.Able to implement python function, conditional, and loop to solve logic cases."
   ]
  },
  {
   "cell_type": "markdown",
   "metadata": {},
   "source": [
    "Task 1\n",
    "\n",
    "Create a function that count the number of word in a sentence!\n",
    "\n",
    "Instruction  :\n",
    "\n",
    "1.Create function called `number_of_word`.\n",
    "\n",
    "2.This function takes 1 input, `sentence`.\n",
    "\n",
    "3.Inside this function, you can utilize `.split()` method to split the sentence into list of word(s).\n",
    "\n",
    "4.Also, `len()` function to count the element inside a list.\n",
    "\n",
    "5.Return the number of word from the sentence.\n",
    "\n",
    "\n",
    "Examples:\n",
    "\n",
    "-Input: number_of_word(sentence = ’Hello World!’)\n",
    "-Output: 2\n",
    "\n",
    "-Input: number_of_word(sentence = ’Once Upon a Time in a faraway land’)\n",
    "-Output: 8\n"
   ]
  },
  {
   "cell_type": "code",
   "execution_count": 40,
   "metadata": {},
   "outputs": [
    {
     "name": "stdout",
     "output_type": "stream",
     "text": [
      "you have entered the text: once upon a time in a faraway land\n",
      "['once', 'upon', 'a', 'time', 'in', 'a', 'faraway', 'land']\n",
      "8\n"
     ]
    }
   ],
   "source": [
    "text = input(\"please input your sentences\") \n",
    "\n",
    "#This will trigger an input which users can use to type any sentences that will be counted\n",
    "\n",
    "print(\"you have entered the text: \"+text) \n",
    "#this command will let the users know and recheck their input\n",
    "\n",
    "def number_of_word():\n",
    "    print(text.split()) #this split command is used to split the sentences put by the users into list of words\n",
    "    return(len(text.split())) #this len command written is used for counting the list of words resulted from the previous split command\n",
    "\n",
    "print(number_of_word()) #this command used to display the results in counting the list of words\n",
    "\n",
    "    \n",
    "    \n"
   ]
  },
  {
   "cell_type": "code",
   "execution_count": 28,
   "metadata": {},
   "outputs": [
    {
     "name": "stdout",
     "output_type": "stream",
     "text": [
      "you have entered the text: hello world\n",
      "['hello', 'world']\n",
      "2\n"
     ]
    }
   ],
   "source": [
    "text = input(\"please input your sentences\") \n",
    "\n",
    "#This will trigger an input which users can use to type any sentences that will be counted\n",
    "\n",
    "print(\"you have entered the text: \"+text) \n",
    "#this command will let the users know and recheck their input\n",
    "\n",
    "def number_of_word():\n",
    "    print(text.split()) #this split command is used to split the sentences put by the users into list of words\n",
    "    return(len(text.split())) #this len command written is used for counting the list of words resulted from the previous split command\n",
    "\n",
    "print(number_of_word()) #this command used to display the results in counting the list of words"
   ]
  },
  {
   "cell_type": "markdown",
   "metadata": {},
   "source": [
    "Task 2\n",
    "\n",
    "Create a function that will get list of number(s) from a certain range that multiples of given number.\n",
    "\n",
    "Instructions  :\n",
    "\n",
    "1.Create function called `find_multiples`.\n",
    "2.This function takes 3 input: `start_range`, `end_range`, and `multiple`.\n",
    "3.From every number within the given range, check if that number is the mutliples of `multiple`.\n",
    "4.Return list of the possible multiple number(s).\n",
    "\n",
    "Examples :\n",
    "\n",
    "-Input: find_multiple(start_range= 1, end_range= 20, multiple= 5)\n",
    "-Output: [5, 10, 15, 20]\n",
    "-Input: find_multiple(start_range= 1, end_range= 50, multiple= 10)\n",
    "-Output: [10, 20, 30, 40, 50]"
   ]
  },
  {
   "cell_type": "code",
   "execution_count": 3,
   "metadata": {},
   "outputs": [
    {
     "data": {
      "text/plain": [
       "[5, 10, 15, 20]"
      ]
     },
     "execution_count": 3,
     "metadata": {},
     "output_type": "execute_result"
    }
   ],
   "source": [
    "def find_multiples(start_range, end_range, multiple):\n",
    "    '''this function is used for determining the start range, end range, and multiple given from the list of number(s) asked by the task.'''\n",
    "    \n",
    "    multiples = [] #this statement is used to generate a temp list, named \"multiples\" as a variable for datas/numbers that hv been input to the system\n",
    "    for i in range(start_range, end_range+1): #this for loops is used for iterating over a sequence, in this case, a list for multiples[] \n",
    "        if i % multiple == 0: #this if statement is used for generating the multiples, in which any numbers in range of start range towards end range that have 0 remainder of the dividing input (i) and multiple\n",
    "                multiples.append(i) #this statement is used to add any of the input fit in the criteria above into the multiples[]\n",
    "    return multiples\n",
    "\n",
    "find_multiples(start_range= 1, end_range= 20, multiple= 5)\n"
   ]
  },
  {
   "cell_type": "code",
   "execution_count": 30,
   "metadata": {},
   "outputs": [
    {
     "data": {
      "text/plain": [
       "[10, 20, 30, 40, 50]"
      ]
     },
     "execution_count": 30,
     "metadata": {},
     "output_type": "execute_result"
    }
   ],
   "source": [
    "def find_multiples(start_range, end_range, multiple):\n",
    "    '''this function is used for determining the start range, end range, and multiple given from the list of number(s) asked by the task.'''\n",
    "    \n",
    "    multiples = [] #this statement is used to generate a temp list, named \"multiples\" as a variable for datas/numbers that hv been input to the system\n",
    "    for i in range(start_range, end_range+1): #this for loops is used for iterating over a sequence, in this case, a list for multiples[] \n",
    "        if i % multiple == 0: #this if statement is used for generating the multiples, in which any numbers in range of start range towards end range that have 0 remainder of the dividing input (i) and multiple\n",
    "                multiples.append(i) #this statement is used to add any of the input fit in the criteria above into the multiples[]\n",
    "    return multiples\n",
    "\n",
    "find_multiples(start_range= 1, end_range= 50, multiple= 10)\n"
   ]
  },
  {
   "cell_type": "markdown",
   "metadata": {},
   "source": [
    "Task 3 \n",
    "\n",
    "Create a function that will convert student’s grade to GPA.\n",
    "\n",
    "Instructions :\n",
    "\n",
    "1.Create function called `Grade_Converter`.\n",
    "\n",
    "2.This function takes input: `convert_to` and n-paired of student(s) name with its respective score.\n",
    "\n",
    "3.Input argument for `convert_to` is either `letter_grade` or `gpa`.\n",
    "\n",
    "4.You can utilize **kwargs input argument to generate n-length paired of student(s) name with its respective score (Dictionary).\n",
    "\n",
    "5.This function will return dictionary of student’s name along with converted Letter Grade or GPA, depending on user input in `convert_to` parameter\n",
    "\n",
    "Example:\n",
    "1.\n",
    "-Input: Grade_Converter(convert_to='gpa', Adam=62, Faiz=91)\n",
    "\n",
    "-Output: {'Adam': 2.5, 'Faiz': 4}\n",
    "\n",
    "\n",
    "2.-Input: Grade_Converter(convert_to='letter_grade', Albert=90, Dwi=82, Syahdan=58, Veronica=84)\n",
    "\n",
    "-Output: {'Albert': 'A', 'Dwi': 'B', 'Syahdan': 'D','Veronica': 'B'}"
   ]
  },
  {
   "cell_type": "code",
   "execution_count": 34,
   "metadata": {},
   "outputs": [
    {
     "data": {
      "text/plain": [
       "{'Adam': '2.5', 'Faiz': '4'}"
      ]
     },
     "execution_count": 34,
     "metadata": {},
     "output_type": "execute_result"
    }
   ],
   "source": [
    "def Grade_Converter(convert_to, **testresult):\n",
    "    \n",
    "    '''this statement is used to generate a function with an expression \"convert_to\" that would convert a score into a grade (gpa/letter)'''\n",
    "    \n",
    "    report = {} #this statement is used to generate a new list, named report that will have all the the input required into this list\n",
    "    \n",
    "    if convert_to == \"letter_grade\": #we use this if statement to create a comparable of two inputs that we will have (convert to GPA or Letter grade) that will resulted in two different outputs\n",
    "        for name, score in testresult.items(): #for loops is used here for iterating a sequence, in this case, is testresult {} which will consist of name and the grade\n",
    "            if 100 >= score >= 85:          #these if and elifs are used to describe the conversion range of the score into the letter grade\n",
    "                letter_grade = \"A\"\n",
    "            elif 84.99 >= score >= 70:\n",
    "                letter_grade = \"B\"\n",
    "            elif 69.99 >= score >= 60:\n",
    "                letter_grade = \"C\"\n",
    "            elif 59.99 >= score >= 50:\n",
    "                letter_grade = \"D\"\n",
    "            elif 49.99 >= score >= 40:\n",
    "                letter_grade = \"E\"\n",
    "            elif 39.99 >= score >= 0:\n",
    "                letter_grade = \"F\"\n",
    "            report[name] = letter_grade     #this statement will input the results into the temporary report dictionary ({})\n",
    "        \n",
    "    elif convert_to == \"GPA\": #this elif used as the comparison if the desired outcome is converting score into its gpa\n",
    "        for name, score in testresult.items(): #for loops is used here for iterating a sequence, in this case, is testresult {} which will consist of name and the grade\n",
    "            if 100 >= score >= 85: #these if and elifs are used to describe the conversion range of the score into the GPA\n",
    "                GPA = \"4\"\n",
    "            elif 84.99 >= score >= 70:\n",
    "                GPA = \"3\"\n",
    "            elif 69.99 >= score >= 60:\n",
    "                GPA = \"2.5\"\n",
    "            elif 59.99 >= score >= 50:\n",
    "                GPA = \"2\"\n",
    "            elif 49.99 >= score >= 40:\n",
    "                GPA = \"1.5\"\n",
    "            elif 39.99 >= score >= 0:\n",
    "                GPA = \"1\"\n",
    "            report[name] = GPA              #this statement will input the results into the temporary report dictionary ({})\n",
    "    \n",
    "    return report\n",
    "\n",
    "Grade_Converter(convert_to='GPA', Adam=62, Faiz=91)      \n"
   ]
  },
  {
   "cell_type": "code",
   "execution_count": 35,
   "metadata": {},
   "outputs": [
    {
     "data": {
      "text/plain": [
       "{'Albert': 'A', 'Dwi': 'B', 'Syahdan': 'D', 'Veronica': 'B'}"
      ]
     },
     "execution_count": 35,
     "metadata": {},
     "output_type": "execute_result"
    }
   ],
   "source": [
    "\n",
    "Grade_Converter(convert_to='letter_grade', Albert=90, Dwi=82, Syahdan=58, Veronica=84)"
   ]
  },
  {
   "cell_type": "markdown",
   "metadata": {},
   "source": [
    "task 4\n",
    "\n",
    "create a function that will return the value of n-th fibonacci number.\n",
    "\n",
    "Instruction :\n",
    "\n",
    "1.The function will take 1 input parameter, n, represents the asked number from our fibonacci sequence index.\n",
    "\n",
    "2.The fibonacci sequence will start with the value of 0 and 1.\n",
    "\n",
    "3.This function will return the n-th value from fibonacci sequence"
   ]
  },
  {
   "cell_type": "code",
   "execution_count": 37,
   "metadata": {},
   "outputs": [
    {
     "name": "stdout",
     "output_type": "stream",
     "text": [
      "The 10-th Fibonacci number is: 55\n"
     ]
    }
   ],
   "source": [
    "fibin = int(input('Please input the number: '))\n",
    "'''This statement will take user input. '''\n",
    "\n",
    "\n",
    "def my_function(n): #this statement is used to generate a new function, named my_function.\n",
    "    if n == 0: #in this function, in order to generate a fibonacci, we made a certain criterias. In here, we make a criteria, in which if the input is n the result will be n-1+n-2 \n",
    "        return 0\n",
    "    elif n == 1:\n",
    "        return 1\n",
    "    else:\n",
    "        return my_function(n - 1) + my_function(n - 2)\n",
    "\n",
    "result = my_function(fibin)\n",
    "print(f\"The {fibin}-th Fibonacci number is: {result}\")\n",
    "\n",
    "\n"
   ]
  },
  {
   "cell_type": "code",
   "execution_count": 38,
   "metadata": {},
   "outputs": [
    {
     "name": "stdout",
     "output_type": "stream",
     "text": [
      "The 4-th Fibonacci number is: 3\n"
     ]
    }
   ],
   "source": [
    "fibin = int(input('Please input the number: '))\n",
    "'''This statement will take user input. '''\n",
    "\n",
    "\n",
    "def my_function(n): #this statement is used to generate a new function, named my_function.\n",
    "    if n == 0: #in this function, in order to generate a fibonacci, we made a certain criterias. In here, we make a criteria, in which if the input is n the result will be n-1+n-2 \n",
    "        return 0\n",
    "    elif n == 1:\n",
    "        return 1\n",
    "    else:\n",
    "        return my_function(n - 1) + my_function(n - 2)\n",
    "\n",
    "result = my_function(fibin)\n",
    "print(f\"The {fibin}-th Fibonacci number is: {result}\")\n",
    "\n",
    "\n"
   ]
  },
  {
   "cell_type": "code",
   "execution_count": 39,
   "metadata": {},
   "outputs": [
    {
     "name": "stdout",
     "output_type": "stream",
     "text": [
      "The 0-th Fibonacci number is: 0\n"
     ]
    }
   ],
   "source": [
    "fibin = int(input('Please input the number: '))\n",
    "'''This statement will take user input. '''\n",
    "\n",
    "\n",
    "def my_function(n): #this statement is used to generate a new function, named my_function.\n",
    "    if n == 0: #in this function, in order to generate a fibonacci, we made a certain criterias. In here, we make a criteria, in which if the input is n the result will be n-1+n-2 \n",
    "        return 0\n",
    "    elif n == 1:\n",
    "        return 1\n",
    "    else:\n",
    "        return my_function(n - 1) + my_function(n - 2)\n",
    "\n",
    "result = my_function(fibin)\n",
    "print(f\"The {fibin}-th Fibonacci number is: {result}\")\n",
    "\n",
    "\n"
   ]
  }
 ],
 "metadata": {
  "kernelspec": {
   "display_name": "Python 3",
   "language": "python",
   "name": "python3"
  },
  "language_info": {
   "codemirror_mode": {
    "name": "ipython",
    "version": 3
   },
   "file_extension": ".py",
   "mimetype": "text/x-python",
   "name": "python",
   "nbconvert_exporter": "python",
   "pygments_lexer": "ipython3",
   "version": "3.11.5"
  },
  "orig_nbformat": 4
 },
 "nbformat": 4,
 "nbformat_minor": 2
}
